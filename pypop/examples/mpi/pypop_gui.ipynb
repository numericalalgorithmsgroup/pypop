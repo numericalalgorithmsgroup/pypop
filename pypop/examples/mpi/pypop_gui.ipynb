{
 "cells": [
  {
   "cell_type": "code",
   "execution_count": null,
   "metadata": {
    "hide_input": true
   },
   "outputs": [],
   "source": [
    "import os\n",
    "from pypop.notebook_interface import MetricsWizard\n",
    "from pypop.metrics import MPI_Metrics\n",
    "\n",
    "tracedir=\"./epoch_example_traces\"\n",
    "gui = MetricsWizard(MPI_Metrics,\n",
    "                    starting_files=[os.path.join(tracedir, x)\n",
    "                                    for x in os.listdir(tracedir)\n",
    "                                    if x.endswith(\".prv.gz\")])\n",
    "display(gui)"
   ]
  },
  {
   "cell_type": "code",
   "execution_count": null,
   "metadata": {},
   "outputs": [],
   "source": []
  }
 ],
 "metadata": {
  "kernelspec": {
   "display_name": "Python 3",
   "language": "python",
   "name": "python3"
  },
  "language_info": {
   "codemirror_mode": {
    "name": "ipython",
    "version": 3
   },
   "file_extension": ".py",
   "mimetype": "text/x-python",
   "name": "python",
   "nbconvert_exporter": "python",
   "pygments_lexer": "ipython3",
   "version": "3.8.6"
  }
 },
 "nbformat": 4,
 "nbformat_minor": 4
}
